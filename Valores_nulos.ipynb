{
  "nbformat": 4,
  "nbformat_minor": 0,
  "metadata": {
    "colab": {
      "provenance": [],
      "include_colab_link": true
    },
    "kernelspec": {
      "name": "python3",
      "display_name": "Python 3"
    },
    "language_info": {
      "name": "python"
    }
  },
  "cells": [
    {
      "cell_type": "markdown",
      "metadata": {
        "id": "view-in-github",
        "colab_type": "text"
      },
      "source": [
        "<a href=\"https://colab.research.google.com/github/AndreeAguilar/Valores_Nulos/blob/main/Valores_nulos.ipynb\" target=\"_parent\"><img src=\"https://colab.research.google.com/assets/colab-badge.svg\" alt=\"Open In Colab\"/></a>"
      ]
    },
    {
      "cell_type": "code",
      "execution_count": 1,
      "metadata": {
        "id": "IZYrcjYwikre"
      },
      "outputs": [],
      "source": [
        "import pandas as pd \n",
        "import numpy as np\n",
        "import matplotlib.pyplot as plt"
      ]
    },
    {
      "cell_type": "code",
      "source": [
        "from google.colab import files\n",
        "files.upload()"
      ],
      "metadata": {
        "id": "oBaZ7dLuisQZ"
      },
      "execution_count": null,
      "outputs": []
    },
    {
      "cell_type": "code",
      "source": [
        "data = pd.read_csv('Ventas_totales.csv')\n",
        "data.head(5)"
      ],
      "metadata": {
        "id": "DmWIdtgGix_f"
      },
      "execution_count": null,
      "outputs": []
    },
    {
      "cell_type": "code",
      "source": [
        "#Identificar valores nulos por columna.\n",
        "valores_nulos=data.isnull().sum()\n",
        "valores_nulos"
      ],
      "metadata": {
        "id": "a43DhEIBjLe0"
      },
      "execution_count": null,
      "outputs": []
    },
    {
      "cell_type": "code",
      "source": [
        "#Copia de Dataframe.\n",
        "data2=data.copy()"
      ],
      "metadata": {
        "id": "j8IQsS27kQ1M"
      },
      "execution_count": 33,
      "outputs": []
    },
    {
      "cell_type": "code",
      "source": [
        "#Sustituir valores nulos con promedio.\n",
        "data2['ventas_precios_constantes']=data2['ventas_precios_constantes'].fillna(round(data['ventas_precios_constantes'].mean(),1))"
      ],
      "metadata": {
        "id": "VLNp1z2XmSkT"
      },
      "execution_count": 34,
      "outputs": []
    },
    {
      "cell_type": "code",
      "source": [
        "valores_nulos=data2.isnull().sum()\n",
        "valores_nulos"
      ],
      "metadata": {
        "id": "OHa1IhBCmdhF"
      },
      "execution_count": null,
      "outputs": []
    },
    {
      "cell_type": "code",
      "source": [
        "data2['tarjetas_debito']=data2['tarjetas_debito'].fillna(round(data['tarjetas_debito'].median(),1))"
      ],
      "metadata": {
        "id": "8kjIEr7usZ9_"
      },
      "execution_count": 28,
      "outputs": []
    },
    {
      "cell_type": "code",
      "source": [
        "#susituiur valores nulos por un valor numérico concreto.\n",
        "data2['tarjetas_credito']=data2['tarjetas_credito'].fillna(500000)"
      ],
      "metadata": {
        "id": "uBGyrZOrsjf6"
      },
      "execution_count": 11,
      "outputs": []
    },
    {
      "cell_type": "code",
      "source": [
        "#Sustituir valores nulos por valores nulos consiguientes.\n",
        "data2['subtotal_ventas_alimentos_bebidas']=data2['subtotal_ventas_alimentos_bebidas'].fillna(method='ffill')"
      ],
      "metadata": {
        "id": "Ck19XCrDsqPC"
      },
      "execution_count": 12,
      "outputs": []
    },
    {
      "cell_type": "code",
      "source": [
        "data2['otros_medios']=data2['otros_medios'].fillna(round(data['otros_medios'].median(),1))"
      ],
      "metadata": {
        "id": "9tv4cuMYtoyQ"
      },
      "execution_count": 13,
      "outputs": []
    },
    {
      "cell_type": "code",
      "source": [
        "data2['bebidas']=data2['bebidas'].fillna(round(data['bebidas'].median(),1))"
      ],
      "metadata": {
        "id": "uPUJIiYWtqbT"
      },
      "execution_count": 14,
      "outputs": []
    },
    {
      "cell_type": "code",
      "source": [
        "data2['almacen']=data2['almacen'].fillna(round(data['almacen'].median(),1))"
      ],
      "metadata": {
        "id": "5cYgaRwjtq2o"
      },
      "execution_count": 15,
      "outputs": []
    },
    {
      "cell_type": "code",
      "source": [
        "#Sustituir valores nulos por valores no nulos hacia atrás.\n",
        "data2['panaderia']=data2['panaderia'].fillna(method='bfill')\n",
        "data2['lacteos']=data2['lacteos'].fillna(method='bfill')\n",
        "data2['carnes']=data2['carnes'].fillna(method='bfill')\n",
        "data2['verduleria_fruteria']=data2['verduleria_fruteria'].fillna(method='bfill')\n",
        "data2['alimentos_preparados_rotiseria']=data2['alimentos_preparados_rotiseria'].fillna(method='bfill')\n",
        "data2['indumentaria_calzado_textiles_hogar']=data2['indumentaria_calzado_textiles_hogar'].fillna(method='bfill')"
      ],
      "metadata": {
        "id": "sINkJQiRuLcm"
      },
      "execution_count": 29,
      "outputs": []
    },
    {
      "cell_type": "code",
      "source": [
        "data2['electronicos_articulos_hogar']=data2['electronicos_articulos_hogar'].fillna(round(data['electronicos_articulos_hogar'].median(),1))\n",
        "data2['otros']=data2['otros'].fillna(round(data['otros'].median(),1))"
      ],
      "metadata": {
        "id": "75nTT73HuL7c"
      },
      "execution_count": 30,
      "outputs": []
    },
    {
      "cell_type": "code",
      "source": [
        "data2.info()"
      ],
      "metadata": {
        "id": "JICvgJhLu-5E"
      },
      "execution_count": null,
      "outputs": []
    },
    {
      "cell_type": "code",
      "source": [
        "data2.to_csv('ventas_sin_nulos.csv')"
      ],
      "metadata": {
        "id": "bEy98k4AvDi8"
      },
      "execution_count": 19,
      "outputs": []
    },
    {
      "cell_type": "code",
      "source": [
        "from google.colab import files\n",
        "files.download('ventas_sin_nulos.csv')"
      ],
      "metadata": {
        "id": "nywkVaHzvIi1",
        "outputId": "0a73af94-ce28-4b25-fdca-574f4baff841",
        "colab": {
          "base_uri": "https://localhost:8080/",
          "height": 17
        }
      },
      "execution_count": 20,
      "outputs": [
        {
          "output_type": "display_data",
          "data": {
            "text/plain": [
              "<IPython.core.display.Javascript object>"
            ],
            "application/javascript": [
              "\n",
              "    async function download(id, filename, size) {\n",
              "      if (!google.colab.kernel.accessAllowed) {\n",
              "        return;\n",
              "      }\n",
              "      const div = document.createElement('div');\n",
              "      const label = document.createElement('label');\n",
              "      label.textContent = `Downloading \"${filename}\": `;\n",
              "      div.appendChild(label);\n",
              "      const progress = document.createElement('progress');\n",
              "      progress.max = size;\n",
              "      div.appendChild(progress);\n",
              "      document.body.appendChild(div);\n",
              "\n",
              "      const buffers = [];\n",
              "      let downloaded = 0;\n",
              "\n",
              "      const channel = await google.colab.kernel.comms.open(id);\n",
              "      // Send a message to notify the kernel that we're ready.\n",
              "      channel.send({})\n",
              "\n",
              "      for await (const message of channel.messages) {\n",
              "        // Send a message to notify the kernel that we're ready.\n",
              "        channel.send({})\n",
              "        if (message.buffers) {\n",
              "          for (const buffer of message.buffers) {\n",
              "            buffers.push(buffer);\n",
              "            downloaded += buffer.byteLength;\n",
              "            progress.value = downloaded;\n",
              "          }\n",
              "        }\n",
              "      }\n",
              "      const blob = new Blob(buffers, {type: 'application/binary'});\n",
              "      const a = document.createElement('a');\n",
              "      a.href = window.URL.createObjectURL(blob);\n",
              "      a.download = filename;\n",
              "      div.appendChild(a);\n",
              "      a.click();\n",
              "      div.remove();\n",
              "    }\n",
              "  "
            ]
          },
          "metadata": {}
        },
        {
          "output_type": "display_data",
          "data": {
            "text/plain": [
              "<IPython.core.display.Javascript object>"
            ],
            "application/javascript": [
              "download(\"download_528d4f7e-8537-49c3-b5a6-ad2a53780adc\", \"ventas_sin_nulos.csv\", 18464)"
            ]
          },
          "metadata": {}
        }
      ]
    }
  ]
}